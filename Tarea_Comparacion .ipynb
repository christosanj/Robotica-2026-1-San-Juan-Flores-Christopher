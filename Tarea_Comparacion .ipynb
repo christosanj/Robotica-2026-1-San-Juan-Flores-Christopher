{
 "cells": [
  {
   "cell_type": "markdown",
   "id": "4eede925-c4fb-498a-8c5f-5207cad7615c",
   "metadata": {},
   "source": [
    "Comparación del código de control de robots seriales\n",
    "\n",
    "San Juan Flores Christopher \n",
    "\n",
    "scara_tray_line_py:\n",
    "\n",
    "Este nodo controla un robot SCARA de 3 grados de libertad, genera una trayectoria lineal en el plano XY entre dos puntos del espacio de trabajo y calcula los ángulos articulares en cada paso mediante cinemática inversa.\n",
    "\n",
    "Para ello primero se crea un pulicador scara_trajectory_controller/joint_trajectory y se definen las articulaciones ink_1_joint, ink_2_joint, ink_3_joint. Posteriormente se inicializan los parametros lambda_, que representa el parametro de interpolacion, Tiempo_ejec, en 10s y se crea un temporizador create_timer(1, self.trayectory_cbck), que ejecuta el ciclo de control cada segundo.\n",
    "\n",
    "A continuacion se reliza la interpolacion y publicacion mediante trayectory_cbck, por lo que mientras lamda_ sea menor o igual a Tiempo_ejec_, se calculan las posiciones ntermedias entre dos puntos cartesianos (x1, y1, theta_1 y x2, y2, theta_2) y se llama a la funcion invk_sol() para obtener las posiciones resultantes, finalmente incrementa lambda_ para avanzar en la trayectoria.\n",
    "\n",
    "\n",
    "Mediante la funcion invk_sol, a partir de las ecuaciones del robot SCARA y las longitudes de los eslabones L1, L2, L3, se determinan los angulos theta_1, theta_2 y theta_3 que se devuelven como un vector para publicarlo en el topico.\n",
    "\n",
    "Finalmente cuando lambda_ supera el tiempo de ejecucion, se asume que se ha completado la trayectoria y todas las articulaciones regresan a un valor de cero.\n",
    "\n",
    "Publicador:\n",
    "    /scara_trajectory_controller/joint_trajectory\n",
    "Mensajes enviados:\n",
    "    JointTrajectory\n",
    "    JointTrajectoryPoint\n",
    "    Contienen:\n",
    "    - joint_names : nombres de los ejes del SCARA.\n",
    "    - points : lista de configuraciones por instante.\n",
    "    - time_from_start: duración relativa de cada movimiento.\n"
   ]
  },
  {
   "cell_type": "markdown",
   "id": "f40633c3-208b-415a-954c-44931bfda909",
   "metadata": {},
   "source": [
    "dofbot_posture_test_py:\n",
    "\n",
    "Este nodo controla un manipulador Dofbot de 5 grados de libertad más un efector final tipo gripper, ejecutando una secuencia automatizada de movimientos. \n",
    "Su objetivo es mover el brazo a diferentes posiciones predefinidas, abrir o cerrar la pinza según la etapa, y regresar finalmente a la posición inicial.\n",
    "\n",
    "Para ello, primero se crean dos publicadores: /dofbot_trajectory_controller/joint_trajectory, encargado de enviar los comandos de trayectoria al brazo principal, y /dofbot_gripper_controller/joint_trajectory, destinado al control del gripper.  \n",
    "\n",
    "Además, se definen las articulaciones del robot arm_joint_01 hasta arm_joint_05 y las de la pinza gripper_left_joint, gripper_right_joint.  \n",
    "El nodo inicializa un temporizador con create_timer(0.5, self.timer_callback) que ejecuta el ciclo de control cada medio segundo, controlando la progresión de la secuencia mediante un contador lamda.\n",
    "\n",
    "Durante la ejecución de timer_callback, se realiza el control por etapas:  \n",
    "1. Se determina la postura actual y el siguiente movimiento según el valor de lamda_.  \n",
    "2. Si la etapa corresponde al movimiento del brazo, se calculan los ángulos articulares mediante la función dofbot_ink, que resuelve la cinemática inversa.  \n",
    "3. Si la etapa corresponde al gripper, se invoca la función gripper_state() para abrir o cerrar la pinza publicando los valores adecuados en su tópico correspondiente.  \n",
    "4. Se crean y publican mensajes de tipo JointTrajectory y JointTrajectoryPoint con los nombres de las articulaciones, las posiciones objetivo y el tiempo estimado de movimiento.\n",
    "\n",
    "A medida que avanza la ejecución, lamda_ se incrementa, y permite recorrer la secuencia completa: Open gripper, Close gripper, Open gripper, Primera postura, Close gripper, Segunda postura, Tercer postura, Cuarta postura, Open gripper.\n",
    "\n",
    "Una vez que todas las etapas han sido completadas, el nodo detiene la ejecución y las articulaciones regresan a la posición de reposo, indicando el final del ciclo de trabajo.\n",
    "\n",
    "Publicadores:\n",
    "-/dofbot_trajectory_controller/joint_trajectory\n",
    "-/dofbot_gripper_controller/joint_trajectory\n",
    "\n",
    "Mensajes enviados:\n",
    "    JointTrajectory\n",
    "    JointTrajectoryPoint\n",
    "    Contienen:\n",
    "    - joint_names: nombres de las articulaciones del Dofbot (brazo y gripper)\n",
    "    - points: lista de configuraciones para cada etapa de movimiento.  \n",
    "    - time_from_start: tiempo relativo para la ejecución de cada movimiento."
   ]
  }
 ],
 "metadata": {
  "kernelspec": {
   "display_name": "Python 3 (ipykernel)",
   "language": "python",
   "name": "python3"
  },
  "language_info": {
   "codemirror_mode": {
    "name": "ipython",
    "version": 3
   },
   "file_extension": ".py",
   "mimetype": "text/x-python",
   "name": "python",
   "nbconvert_exporter": "python",
   "pygments_lexer": "ipython3",
   "version": "3.10.12"
  }
 },
 "nbformat": 4,
 "nbformat_minor": 5
}
