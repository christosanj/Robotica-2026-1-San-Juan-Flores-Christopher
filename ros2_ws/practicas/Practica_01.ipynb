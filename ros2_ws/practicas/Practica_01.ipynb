{
 "cells": [
  {
   "cell_type": "markdown",
   "id": "02d74389-3bb2-4acd-bc99-6143462fced9",
   "metadata": {},
   "source": [
    "##### Proyecto PAPIME PE110923 DESARROLLO DE UN LABORATORIO DE ROBOTICA REMOTO PARA REALIZAR PRACTICAS DE PROGRAMACION DE ALGORITMOS DE PLANEACION Y DE NAVEGACION EN BANCOS DE PRUEBA FISICOS\n",
    "\n",
    "# Nodos y Topicos\n",
    "\n",
    "## Objetivo\n",
    "\n",
    "Que los alumnos aprendan la estructura básica de los paquetes y el manejo de topicos y nodos en ROS 2\n",
    "\n",
    "\n",
    "\n",
    "# Previo\n",
    "\n",
    "\n",
    "Una distrubucion de ROS es una set versionado de paquetes de ROS. Estas son similares a las distrubuciones de Linux (por ejemplo Ubuntu). El propósito de las distribuciones de ROS es permitir que los desarrolladores trabajen sobre una base de código relativamente estable hasta que estén listos para actualizar todo. Por lo tanto, una vez que se lanza una distribución, se tratan de limitar los cambios a correcciones de errores y mejoras que no rompan la compatibilidad en los paquetes principales (todo lo que está bajo ros-desktop-full). Esto generalmente se aplica a toda la comunidad, pero para los paquetes de nivel más alto, las reglas son menos estrictas, por lo que recae en los mantenedores de un paquete determinado evitar cambios que rompan la compatibilidad.\n",
    "\n",
    "Un paquete es una unidad organizativa para el código en ROS 2. Si se desea poder instalar el código o compartirlo con otras personas, entonces se necesita organizar dentro de un paquete. Con los paquetes, se puede publicar tu trabajo en ROS 2 y permitir que otros lo compilen y utilicen fácilmente.\n",
    "\n",
    "La creación de paquetes en ROS 2 utiliza ament como sistema de construcción y colcon como herramienta de compilación. Se puede crear un paquete utilizando CMake o Python, los cuales son oficialmente compatibles, aunque existen otros tipos de construcción. [1]\n",
    "\n",
    "La estructura de archivos del paquete más simple posible podría verse así:\n"
   ]
  },
  {
   "cell_type": "code",
   "execution_count": null,
   "id": "ec863a04",
   "metadata": {
    "vscode": {
     "languageId": "plaintext"
    }
   },
   "outputs": [],
   "source": [
    "my_package/\n",
    "  package.xml\n",
    "  resource/my_package\n",
    "  setup.cfg\n",
    "  setup.py\n",
    "  my_package/"
   ]
  },
  {
   "cell_type": "markdown",
   "id": "970c0166",
   "metadata": {},
   "source": [
    "Nodos:\n",
    "\n",
    "El grafo de ROS se refiere a la red de nodos en un sistema ROS y las conexiones entre ellos a través de las cuales se comunican. Un nodo es un participante en el grafo de ROS. Los nodos de ROS utilizan una biblioteca cliente de ROS para comunicarse con otros nodos. Los nodos pueden publicar o suscribirse a Topicos (Topics). También pueden proveer o utilizar Servicios y Acciones. Existen Parámetros configurables asociados a un nodo.\n",
    "\n",
    "Las conexiones entre nodos se establecen mediante un proceso de descubrimiento distribuido. Los nodos pueden estar ubicados en el mismo proceso, en procesos diferentes, o incluso en diferentes máquinas. [2]\n",
    "\n",
    "Topicos:\n",
    "\n",
    "Los Topicos (Topics) son uno de los tres estilos principales de interfaces que proporciona ROS 2. Los Topics deben usarse para flujos continuos de datos, como datos de sensores, el estado del robot, etc. [3]"
   ]
  }
 ],
 "metadata": {
  "kernelspec": {
   "display_name": "Python 3 (ipykernel)",
   "language": "python",
   "name": "python3"
  },
  "language_info": {
   "codemirror_mode": {
    "name": "ipython",
    "version": 3
   },
   "file_extension": ".py",
   "mimetype": "text/x-python",
   "name": "python",
   "nbconvert_exporter": "python",
   "pygments_lexer": "ipython3",
   "version": "3.10.12"
  }
 },
 "nbformat": 4,
 "nbformat_minor": 5
}
