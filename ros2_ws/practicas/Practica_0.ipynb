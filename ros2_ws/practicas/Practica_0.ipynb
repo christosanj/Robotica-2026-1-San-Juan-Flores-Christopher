{
 "cells": [
  {
   "cell_type": "markdown",
   "id": "4ad60680-68ce-410c-b0e2-b4c1c133cd82",
   "metadata": {},
   "source": [
    "##### Proyecto PAPIME PE110923 DESARROLLO DE UN LABORATORIO DE ROBOTICA REMOTO PARA REALIZAR PRACTICAS DE PROGRAMACION DE ALGORITMOS DE PLANEACION Y DE NAVEGACION EN BANCOS DE PRUEBA FISICOS\n",
    "\n",
    "# Este material fue desarrollado con el apoyo del PAPIME PE110923 de la UNAM\n",
    "## Academia de Robótica\n",
    "\n",
    "## Autores\n",
    "\n",
    "- M.I. Erik Peña Medina\n",
    "- Dr. Víctor Javier Gonzáles Villela\n",
    "\n",
    "\n",
    "# Práctica 0: Nodos y Topicos\n",
    "\n",
    "## Objetivo\n",
    "\n",
    "Que los alumnos aprendan la estructura básica de los paquetes y el manejo de topicos y nodos en ROS 2\n",
    "\n",
    "\n",
    "### Contribución al perfil del egresado\n",
    "\n",
    "La siguiente práctica contribuye en los siguientes puntos al perfil del egresado:\n",
    "\n",
    "#### Aptitudes y habilidades\n",
    "\n",
    "- Para modelar, simular e interpretar el comportamiento de los sistemas mecatrónicos.\n",
    "- Para desarrollar, operar y mantener procesos productivos que impliquen la transformación de materia, energía e información.\n",
    "- Para diseñar, construir, operar y mantener los sistemas mecatrónicos y sus componentes.\n",
    "\n",
    "#### Actitudes\n",
    "\n",
    "- Ser creativo e innovador.\n",
    "- Tener confianza en su preparación académica.\n",
    "- Comprometido con su actualización, superación y competencia profesional.\n",
    "\n",
    "#### De tipo social\n",
    "\n",
    "- Promover el cambio en la mentalidad frente a la competitividad internacional.\n",
    "\n",
    "\n",
    "\n",
    "## Rúbrica de evaluación\n",
    "\n",
    "La evaluación de la práctica contará de los siguientes puntos:\n",
    "\n",
    "| Elemento | Porcentaje |\n",
    "| ------:| ----------- |\n",
    "| ***Previo*** | 25% | \n",
    "| **Desarrollo** | 25% |\n",
    "| **Resultado**  | 25% |\n",
    "| **Conclusiones** | 25% |\n",
    "\n",
    "\n",
    "Los siguientes elementos se evaluaran con base en los siguientes criterios:\n",
    "\n",
    "| Elemento | Malo | Regular | Bueno | Muy bueno| \n",
    "| ------:| ------ | --------| ------| --------  |\n",
    "| ***Previo*** | El previo no contiene los elemtos solocitados (0%)| El previo contiene parcialmente la infomración solocitada (10%) |  El previo contiene la infomración solocitada sin referencias (20%) | El previo contiene la información solicitada con referencias (25%) |\n",
    "| **Desarrollo** | El desarrollo de la práctica no fue realizada (0%) | El desarrollo de la práctica fue pacialmente realizado (10%) | La práctica fue realizada pero no fue realizada correctamente (20%) | La práctica fue realizada en su totalidad correctamente (25%) |\n",
    "| **Resultado**  | No se entregarón los resultados de la práctica (0%)| Se entregaron pracialmente los resultados (10%) | Se entregaron los resultados sin descripción (20%) | Se entregaron los resultados de la práctica y son interpetrables(25%) |\n",
    "| **Conclusiones** | No se entragaron conclusiones (0%) | Las conclusciones no están relacionadas con el objetivo de la práctica (5%) | Las conclusciones se relacionan con el objetivo de práctica (10%) | Las concluscions se relacionana con el objetivo de la práctica y se basan en los resultados obtenidos (25%) | \n",
    "\n"
   ]
  },
  {
   "cell_type": "markdown",
   "id": "4d392cc9-9f13-45dd-aeab-49a3ef991dc5",
   "metadata": {},
   "source": [
    "## Previo de la Práctica 0\n",
    "\n",
    "Una distrubucion de ROS es una set versionado de paquetes de ROS. Estas son similares a las distrubuciones de Linux (por ejemplo Ubuntu). El propósito de las distribuciones de ROS es permitir que los desarrolladores trabajen sobre una base de código relativamente estable hasta que estén listos para actualizar todo. Por lo tanto, una vez que se lanza una distribución, se tratan de limitar los cambios a correcciones de errores y mejoras que no rompan la compatibilidad en los paquetes principales (todo lo que está bajo ros-desktop-full). Esto generalmente se aplica a toda la comunidad, pero para los paquetes de nivel más alto, las reglas son menos estrictas, por lo que recae en los mantenedores de un paquete determinado evitar cambios que rompan la compatibilidad.\n",
    "\n",
    "Un paquete es una unidad organizativa para el código en ROS 2. Si se desea poder instalar el código o compartirlo con otras personas, entonces se necesita organizar dentro de un paquete. Con los paquetes, se puede publicar tu trabajo en ROS 2 y permitir que otros lo compilen y utilicen fácilmente.\n",
    "\n",
    "La creación de paquetes en ROS 2 utiliza ament como sistema de construcción y colcon como herramienta de compilación. Se puede crear un paquete utilizando CMake o Python, los cuales son oficialmente compatibles, aunque existen otros tipos de construcción. [1]\n",
    "\n",
    "La estructura de archivos del paquete más simple posible podría verse así:\n",
    "\n"
   ]
  },
  {
   "cell_type": "code",
   "execution_count": null,
   "id": "9009cb88",
   "metadata": {
    "vscode": {
     "languageId": "plaintext"
    }
   },
   "outputs": [],
   "source": [
    "my_package/\n",
    "  package.xml\n",
    "  resource/my_package\n",
    "  setup.cfg\n",
    "  setup.py\n",
    "  my_package/"
   ]
  },
  {
   "cell_type": "markdown",
   "id": "6771b56b-e285-43cc-b039-e502c9e0ef9c",
   "metadata": {},
   "source": [
    "## Desarrollo de la práctica \n",
    "\n",
    "El desarrollo de la práctica se divide en dos partes:\n",
    "\n",
    "1. La primera parte de realizará en clase, en la cual se creara un paquete con dos nodos, uno publicador y el otro suscriptor\n",
    "2. El alumno debe modificar el código del archivo para programar un nodo publicador que publique una función senoidal que representen rpm y nodo subscriptor-publicador que transforme la señal en rad/s.\n",
    "\n"
   ]
  },
  {
   "attachments": {},
   "cell_type": "markdown",
   "id": "3a88c47d-d8a3-43cb-afee-5d54559450a7",
   "metadata": {},
   "source": [
    "## Resultados\n",
    "\n",
    "\n",
    "\n",
    "![nodos.png](imagen/nodos.png)\n",
    "\n",
    "Figura 1. Nodo publicador y nodo subscriptot-publicador\n",
    "\n",
    "\n",
    "\n",
    "\n",
    "\n"
   ]
  },
  {
   "cell_type": "markdown",
   "id": "ed674101-3cbf-4c0e-b0cc-dcddfb09fba5",
   "metadata": {},
   "source": [
    "## Conclusiones\n",
    "\n",
    "Los nodos publicadores y suscriptores en ROS 2 son una forma de que diferentes partes de un robot se comuniquen entre sí. Los nodos publicadores envían información, como datos de sensores o comandos, y los nodos suscriptores la reciben para poder usarla. Además, aprender a crear paquetes de ROS 2 es clave, ya que los paquetes permiten organizar el código, los nodos, las librerías y los archivos de configuración de manera estructurada, facilitando su reutilización y mantenimiento a medida que los proyectos se vuelven más complejos.\n",
    "\n",
    "## Bibliografía \n",
    "\n",
    "[1] ROS 2 Humble Hawksbill Ubuntu (Debian) Installation, ROS Documentation, 2022. [Online]. Disponible: https://docs.ros.org/en/humble/Installation/Ubuntu-Install-Debs.html\n",
    "\n",
    "[2] ROS 2 Releases, ROS Documentation, 2024. [Online]. Disponible: https://docs.ros.org/en/rolling/Releases.html\n",
    "\n",
    "[3] ROS 2 Jazzy Jalisco Search Documentation, ROS Documentation, 2024. [Online]. Disponible: https://docs.ros.org/en/jazzy/search.html?q=topics&check_keywords=yes&area=default\n",
    "\n"
   ]
  }
 ],
 "metadata": {
  "kernelspec": {
   "display_name": "Python 3 (ipykernel)",
   "language": "python",
   "name": "python3"
  },
  "language_info": {
   "codemirror_mode": {
    "name": "ipython",
    "version": 3
   },
   "file_extension": ".py",
   "mimetype": "text/x-python",
   "name": "python",
   "nbconvert_exporter": "python",
   "pygments_lexer": "ipython3",
   "version": "3.10.12"
  }
 },
 "nbformat": 4,
 "nbformat_minor": 5
}
